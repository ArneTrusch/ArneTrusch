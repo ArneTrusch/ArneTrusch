{
  "cells": [
    {
      "cell_type": "markdown",
      "id": "649cee80-bfe9-4cf7-955b-560a475b94d7",
      "metadata": {
        "id": "649cee80-bfe9-4cf7-955b-560a475b94d7"
      },
      "source": [
        "# Hangman game"
      ]
    },
    {
      "cell_type": "markdown",
      "id": "451fb977-2ab3-4c26-b7d6-dee486eef375",
      "metadata": {
        "id": "451fb977-2ab3-4c26-b7d6-dee486eef375"
      },
      "source": [
        "Hangman is a guessing game where the player(s) try to guess the word by suggesting a letters.  \n",
        "Player is allowed a certain number of mistakes.  \n",
        "The game starts with a word where all letters are replaced with a `-` so the only information available to a player is a number of letters in a word.  \n",
        "**Start**: `------`  \n",
        "For each correctly guessed letter, a position of the letter is revealed (if there are multiple positions for a same letter, they are all revealed.  \n",
        "**Correct**: `-E--E-`  \n",
        "For each wrongly guessed letter, number of allowed mistakes decreases by 1.  \n",
        "**Wrong**: 'Number of allowed mistakes is now 5'"
      ]
    },
    {
      "cell_type": "markdown",
      "id": "ba3d2b29-e8f8-43fd-91c4-ab89fb4a611b",
      "metadata": {
        "id": "ba3d2b29-e8f8-43fd-91c4-ab89fb4a611b"
      },
      "source": [
        "Name of the game comes from a drawing of a hanged stick figure. For every mistake a new element of a hanged figure is added.  \n",
        "If a player guesses a word before the last element of a figure is added, a player wins.  \n",
        "If a player doesn't guess a word before the last element of a figure is added, player loses."
      ]
    },
    {
      "cell_type": "markdown",
      "id": "1d2579aa-e600-4e7a-ba90-93e628749ce0",
      "metadata": {
        "tags": [],
        "id": "1d2579aa-e600-4e7a-ba90-93e628749ce0"
      },
      "source": [
        "**Here you can see a simulation of 3 different steps:**  \n",
        "Hidden word is: ------  \n",
        "==============================================================  \n",
        "Pick a letter:  \n",
        " S  \n",
        "Correct! There is a letter S in a secret word!  \n",
        "S-----  \n",
        "==============================================================  \n",
        "Pick a letter:  \n",
        " V  \n",
        "WRONG! Number of mistakes left: 5  \n",
        "  \n",
        "        ____________  \n",
        "         |  \n",
        "         O  \n",
        "==============================================================  \n",
        "Pick a letter:  \n",
        " L  \n",
        "WRONG! Number of mistakes left: 4  \n",
        "  \n",
        "        ____________  \n",
        "         |  \n",
        "         O  \n",
        "        /  \n",
        "==============================================================  \n",
        "Pick a letter:  "
      ]
    },
    {
      "cell_type": "code",
      "source": [
        "import this"
      ],
      "metadata": {
        "colab": {
          "base_uri": "https://localhost:8080/"
        },
        "id": "Wwxhq20laKBB",
        "outputId": "fa64f985-695a-49c0-ab5b-52d25d8c1b22"
      },
      "id": "Wwxhq20laKBB",
      "execution_count": null,
      "outputs": [
        {
          "output_type": "stream",
          "name": "stdout",
          "text": [
            "The Zen of Python, by Tim Peters\n",
            "\n",
            "Beautiful is better than ugly.\n",
            "Explicit is better than implicit.\n",
            "Simple is better than complex.\n",
            "Complex is better than complicated.\n",
            "Flat is better than nested.\n",
            "Sparse is better than dense.\n",
            "Readability counts.\n",
            "Special cases aren't special enough to break the rules.\n",
            "Although practicality beats purity.\n",
            "Errors should never pass silently.\n",
            "Unless explicitly silenced.\n",
            "In the face of ambiguity, refuse the temptation to guess.\n",
            "There should be one-- and preferably only one --obvious way to do it.\n",
            "Although that way may not be obvious at first unless you're Dutch.\n",
            "Now is better than never.\n",
            "Although never is often better than *right* now.\n",
            "If the implementation is hard to explain, it's a bad idea.\n",
            "If the implementation is easy to explain, it may be a good idea.\n",
            "Namespaces are one honking great idea -- let's do more of those!\n"
          ]
        }
      ]
    },
    {
      "cell_type": "markdown",
      "id": "94acc394-2211-4f74-bb29-ec5cea076fa4",
      "metadata": {
        "id": "94acc394-2211-4f74-bb29-ec5cea076fa4"
      },
      "source": [
        "## Try to create a hangman game on your own using what you have learned so far."
      ]
    },
    {
      "cell_type": "code",
      "execution_count": null,
      "id": "0fc7d9fd-0ba4-474f-8ae6-a7fd4b399b8e",
      "metadata": {
        "id": "0fc7d9fd-0ba4-474f-8ae6-a7fd4b399b8e"
      },
      "outputs": [],
      "source": [
        "# your code here\n",
        "word = \"submetaphorically\"\n",
        "hidden_word =\"-----------------\"\n",
        "print(\"Hidden word is \"hidden_word\".\")\n",
        "picked_letter = input()\n",
        "if word.count(picked_letter)>0:\n",
        "  print(f\"CORRECT! The word contains the letter {picked_letter}!\")\n",
        "else:\n",
        "  print(f\"WRONG!\")"
      ]
    },
    {
      "cell_type": "markdown",
      "id": "a2fd839d-c31d-4c2a-af33-6f7551effcc9",
      "metadata": {
        "id": "a2fd839d-c31d-4c2a-af33-6f7551effcc9"
      },
      "source": [
        "### Step-by-step solution"
      ]
    },
    {
      "cell_type": "markdown",
      "id": "4340fe5b-c87a-419d-a0c1-8fdf44377308",
      "metadata": {
        "id": "4340fe5b-c87a-419d-a0c1-8fdf44377308"
      },
      "source": [
        "#### &nbsp;1. step"
      ]
    },
    {
      "cell_type": "markdown",
      "id": "ed05cb0b-111d-4093-b9de-78abd9b3ca8d",
      "metadata": {
        "id": "ed05cb0b-111d-4093-b9de-78abd9b3ca8d"
      },
      "source": [
        "- Create a variable `word` and give it a value of a single word string (all in capitals!) \n",
        "- Create a variable `hidden_word` that will have the same length as `word` but all characters are replaced with dashes `-`\n",
        "- Print out the `hidden_word` in a statement 'Hidden word is: `{hidden_word}`\n",
        "- Create a variable `picked_letter` that will take an `input()` from a user (make sure case matches the `word` case)\n",
        "- Create a single if/else statement that will check if a `word` contains the `picked_letter` (count bigger than 0).  \n",
        "    Print the outcome 'CORRECT! The word contains the letter `picked_letter`' if condition is True  \n",
        "    Print the outcome 'WRONG!' If condition is False"
      ]
    },
    {
      "cell_type": "code",
      "execution_count": null,
      "id": "35e91f75-162e-4da8-8059-076d03280e77",
      "metadata": {
        "id": "35e91f75-162e-4da8-8059-076d03280e77"
      },
      "outputs": [],
      "source": [
        "# your code here"
      ]
    },
    {
      "cell_type": "markdown",
      "id": "5ae4a8f1-1dff-4197-a884-c7af858522d9",
      "metadata": {
        "jp-MarkdownHeadingCollapsed": true,
        "tags": [],
        "id": "5ae4a8f1-1dff-4197-a884-c7af858522d9"
      },
      "source": [
        "##### Solution"
      ]
    },
    {
      "cell_type": "code",
      "execution_count": null,
      "id": "5eef4d8d-69fd-49e9-847c-c9f0110fecc6",
      "metadata": {
        "id": "5eef4d8d-69fd-49e9-847c-c9f0110fecc6",
        "outputId": "51aebe6a-dbcc-4a1b-d4be-bef791a1e1b4"
      },
      "outputs": [
        {
          "name": "stdout",
          "output_type": "stream",
          "text": [
            "Hidden word is ------\n"
          ]
        },
        {
          "name": "stdin",
          "output_type": "stream",
          "text": [
            " g\n"
          ]
        },
        {
          "name": "stdout",
          "output_type": "stream",
          "text": [
            "WRONG!\n"
          ]
        }
      ],
      "source": [
        "word = 'SECRET'\n",
        "hidden_word = '-'*len(word)\n",
        "print(f'Hidden word is {hidden_word}')\n",
        "picked_letter = input().capitalize()\n",
        "if word.count(picked_letter) > 0:\n",
        "    print(f'CORRECT! The word contains the {picked_letter}')\n",
        "else:\n",
        "    print(f'WRONG!')"
      ]
    },
    {
      "cell_type": "markdown",
      "id": "a09706f8-26dd-4bcc-bf71-dbccbdc986c4",
      "metadata": {
        "tags": [],
        "id": "a09706f8-26dd-4bcc-bf71-dbccbdc986c4"
      },
      "source": [
        "#### &nbsp;2. step"
      ]
    },
    {
      "cell_type": "markdown",
      "id": "1ea2d189-3777-4300-bf17-fc95cd2588d3",
      "metadata": {
        "id": "1ea2d189-3777-4300-bf17-fc95cd2588d3"
      },
      "source": [
        "- Copy your solution from the 1. step\n",
        "- Create a variable `mistake_count` and set the value to 6\n",
        "- Create a while loop that will loop as long as the `mistake_count` is bigger than 0\n",
        "- Place the if/else statement from the step 1 inside the while loop\n",
        "- Every time player makes a mistake (condition of if/else is False) decrease the `mistake_count` by one\n",
        "- Change the 'WRONG' printout to: 'WRONG! Number of mistakes left: `{mistake_count}`'\n",
        "- Place the code where you take input from a user inside the while loop so every new itteration a player can give a new letter\n",
        "- Before the input from a user add code that will print text 'Pick a letter:'\n",
        "- After and outside the while loop create an if statement that askes if a `mistake_count` is equal to 0 and if condition is true print 'HANGED!!' as this will happen when game is lost\n",
        "\n",
        "This solution will only stop if player makes a wrong guess 6 times so if you don't want to continue press the squared stop button to interrupt the while loop manually"
      ]
    },
    {
      "cell_type": "code",
      "execution_count": null,
      "id": "15e7f2f8-d87d-436b-8bae-20855ed32191",
      "metadata": {
        "id": "15e7f2f8-d87d-436b-8bae-20855ed32191"
      },
      "outputs": [],
      "source": [
        "# your code here\n",
        "print(\"Welcome to digital 'Hangperson'\")\n",
        "word = \"submetaphorically\"\n",
        "hidden_word = '_' * len(word)\n",
        "x = len(word)\n",
        "print(f\"Your hidden word is {x} characters long.\")\n",
        "\n",
        "mistake_count = 6\n",
        "while mistake_count > 0:\n",
        "  print(\"Please pick a letter.\")\n",
        "  picked_letter = input()\n",
        "  if word.count(picked_letter)>0:\n",
        "      print(f\"CORRECT! The word contains the letter {picked_letter}!\")\n",
        "  else:\n",
        "     print(f\"WRONG!\")\n",
        "\n",
        "if mistake_count == 0:\n",
        "  print(\"HANGED!\\nGame Over!\")"
      ]
    },
    {
      "cell_type": "markdown",
      "id": "86b350e4-45d5-4e6f-9517-4b9bc2284cee",
      "metadata": {
        "jp-MarkdownHeadingCollapsed": true,
        "tags": [],
        "id": "86b350e4-45d5-4e6f-9517-4b9bc2284cee"
      },
      "source": [
        "##### Solution"
      ]
    },
    {
      "cell_type": "code",
      "execution_count": null,
      "id": "192b3ad5-13eb-472b-8b1f-9696f8a21a2e",
      "metadata": {
        "id": "192b3ad5-13eb-472b-8b1f-9696f8a21a2e",
        "outputId": "f0fd935a-607a-4a97-d92b-eed0c9faf5b9"
      },
      "outputs": [
        {
          "name": "stdout",
          "output_type": "stream",
          "text": [
            "Hidden word is ------\n",
            "Pick a letter:\n"
          ]
        },
        {
          "name": "stdin",
          "output_type": "stream",
          "text": [
            " q\n"
          ]
        },
        {
          "name": "stdout",
          "output_type": "stream",
          "text": [
            "WRONG! Number of mistakes left: 5\n",
            "Pick a letter:\n"
          ]
        },
        {
          "name": "stdin",
          "output_type": "stream",
          "text": [
            " w\n"
          ]
        },
        {
          "name": "stdout",
          "output_type": "stream",
          "text": [
            "WRONG! Number of mistakes left: 4\n",
            "Pick a letter:\n"
          ]
        },
        {
          "name": "stdin",
          "output_type": "stream",
          "text": [
            " a\n"
          ]
        },
        {
          "name": "stdout",
          "output_type": "stream",
          "text": [
            "WRONG! Number of mistakes left: 3\n",
            "Pick a letter:\n"
          ]
        },
        {
          "name": "stdin",
          "output_type": "stream",
          "text": [
            " d\n"
          ]
        },
        {
          "name": "stdout",
          "output_type": "stream",
          "text": [
            "WRONG! Number of mistakes left: 2\n",
            "Pick a letter:\n"
          ]
        },
        {
          "name": "stdin",
          "output_type": "stream",
          "text": [
            " g\n"
          ]
        },
        {
          "name": "stdout",
          "output_type": "stream",
          "text": [
            "WRONG! Number of mistakes left: 1\n",
            "Pick a letter:\n"
          ]
        },
        {
          "name": "stdin",
          "output_type": "stream",
          "text": [
            " j\n"
          ]
        },
        {
          "name": "stdout",
          "output_type": "stream",
          "text": [
            "WRONG! Number of mistakes left: 0\n",
            "HANGED!!!\n"
          ]
        }
      ],
      "source": [
        "word = 'SECRET'\n",
        "hidden_word = '-'*len(word)\n",
        "print(f'Hidden word is {hidden_word}')\n",
        "mistake_count = 6\n",
        "while mistake_count > 0:\n",
        "    print('Pick a letter:')\n",
        "    picked_letter = input().capitalize()\n",
        "    if word.count(picked_letter) > 0:\n",
        "        print(f'CORRECT! The word contains the {picked_letter}')\n",
        "    else:\n",
        "        mistake_count -= 1\n",
        "        print(f'WRONG! Number of mistakes left: {mistake_count}')\n",
        "if mistake_count == 0:\n",
        "    print('HANGED!!!')"
      ]
    },
    {
      "cell_type": "markdown",
      "id": "0fba1bf6-c7f5-4553-b97e-f8690a93574b",
      "metadata": {
        "id": "0fba1bf6-c7f5-4553-b97e-f8690a93574b"
      },
      "source": [
        "#### &nbsp;3. step"
      ]
    },
    {
      "cell_type": "markdown",
      "id": "6ded2788-7c29-42db-8f01-60155bbf4f4f",
      "metadata": {
        "id": "6ded2788-7c29-42db-8f01-60155bbf4f4f"
      },
      "source": [
        "- Copy your solution from the 2. step\n",
        "- Inside the while loop create a variable `letter_count` and set it to 0 (to count how many times `picked_letter` appears in a `word`)\n",
        "- Inside the while loop create a variable `index_count` and set it to 0 (to count the position of a `picked_letter` in a `word`)\n",
        "- Create a for loop inside the while loop that will itterate over all letters in a `word`\n",
        "- Inside the for loop create an if statement that will check if a letter is equal to a picked_letter  \n",
        "    If the condition is true, break the hidden word so it consist of: first part of hidden word ('--') + picked_letter + second part of hidden word ('---') - index_count will help you with positions  \n",
        "    Also, if condition is true increase the letter_count by 1\n",
        "- Inside the for loop increase the index_count by 1 for each itteration\n",
        "- In the (`if word.count(picked_letter) > 0:`) add another print: `hidden word`\n",
        "- add another condition to while loop That will check if number of dashes `-` inside the `hidden_word` is different than 0 \n",
        "- Outside the while loop after the existing `if mistake_count == 0` add one else and inside of it print out the 'CONGRATULATIONS'"
      ]
    },
    {
      "cell_type": "code",
      "execution_count": 56,
      "id": "2aa101ec-a9af-47f0-bd8c-e29e9294e2cb",
      "metadata": {
        "id": "2aa101ec-a9af-47f0-bd8c-e29e9294e2cb",
        "colab": {
          "base_uri": "https://localhost:8080/",
          "height": 131
        },
        "outputId": "921cb5b3-cb13-4fcd-db55-c0259e6d1cb2"
      },
      "outputs": [
        {
          "output_type": "error",
          "ename": "IndentationError",
          "evalue": "ignored",
          "traceback": [
            "\u001b[0;36m  File \u001b[0;32m\"<ipython-input-56-764d2e408ba0>\"\u001b[0;36m, line \u001b[0;32m56\u001b[0m\n\u001b[0;31m    letter_count = 0\u001b[0m\n\u001b[0m    ^\u001b[0m\n\u001b[0;31mIndentationError\u001b[0m\u001b[0;31m:\u001b[0m expected an indented block\n"
          ]
        }
      ],
      "source": [
        "word = 'SECRET'\n",
        "hidden_word = '-'*len(word)\n",
        "mistake_count = 6\n",
        "print(f'Hidden word is {hidden_word}')\n",
        "while mistake_count > 0 and hidden_word.count('-') != 0:\n",
        "    letter_count = 0\n",
        "    index_count = 0\n",
        "    print('Pick a letter:')\n",
        "    picked_letter = input().capitalize()\n",
        "    for letter in word:\n",
        "        if letter == picked_letter:\n",
        "            hidden_word = hidden_word[:index_count] + picked_letter + hidden_word[index_count+1:]\n",
        "            letter_count += 1\n",
        "        index_count += 1\n",
        "    if word.count(picked_letter) > 0:\n",
        "        print(f'CORRECT! The word contains the {picked_letter}')\n",
        "        print(hidden_word)\n",
        "    else:\n",
        "        mistake_count -= 1\n",
        "        print(f'WRONG! Number of mistakes left: {mistake_count}')\n",
        "if mistake_count == 0:\n",
        "    print('HANGED!!!')\n",
        "else:\n",
        "    print('CONGRATULATIONS!!!')"
      ]
    },
    {
      "cell_type": "markdown",
      "id": "2cdc5c9b-0d96-44d0-918b-8fa2a1b07413",
      "metadata": {
        "jp-MarkdownHeadingCollapsed": true,
        "tags": [],
        "id": "2cdc5c9b-0d96-44d0-918b-8fa2a1b07413"
      },
      "source": [
        "##### Solution"
      ]
    },
    {
      "cell_type": "code",
      "execution_count": 63,
      "id": "990aac1d-7c5b-4afe-8f49-1d303fd7b7c5",
      "metadata": {
        "tags": [],
        "id": "990aac1d-7c5b-4afe-8f49-1d303fd7b7c5",
        "colab": {
          "base_uri": "https://localhost:8080/"
        },
        "outputId": "7db3d4fa-4a22-4072-be2b-e82c43676a91"
      },
      "outputs": [
        {
          "output_type": "stream",
          "name": "stdout",
          "text": [
            "Welcome to digital 'Hangperson'\n",
            "*********************************************\n",
            "The word is 9 characters long.\n",
            "Please input a letter.\n",
            "s\n",
            "*********************************************\n",
            "WRONG!\n",
            "You have 5 guesses left.\n",
            "\n",
            "          ____________\n",
            "          |\n",
            "          O\n",
            "*********************************************\n",
            "Please input a letter.\n",
            "r\n",
            "*********************************************\n",
            "CORRECT! The word contains the character R!\n",
            "___R____R\n",
            "*********************************************\n",
            "Please input a letter.\n",
            "c\n",
            "*********************************************\n",
            "CORRECT! The word contains the character C!\n",
            "C__R_C__R\n",
            "*********************************************\n",
            "Please input a letter.\n",
            "h\n",
            "*********************************************\n",
            "CORRECT! The word contains the character H!\n",
            "CH_R_C__R\n",
            "*********************************************\n",
            "Please input a letter.\n",
            "a\n",
            "*********************************************\n",
            "CORRECT! The word contains the character A!\n",
            "CHARAC__R\n",
            "*********************************************\n",
            "Please input a letter.\n",
            "t\n",
            "*********************************************\n",
            "CORRECT! The word contains the character T!\n",
            "CHARACT_R\n",
            "*********************************************\n",
            "Please input a letter.\n",
            "e\n",
            "*********************************************\n",
            "CORRECT! The word contains the character E!\n",
            "CHARACTER\n",
            "*********************************************\n",
            "CONGRATULATIONS\n",
            "You are victorious!\n",
            "*********************************************\n"
          ]
        }
      ],
      "source": [
        "import random\n",
        "\n",
        "hangman={0:'''\n",
        "          ____________\n",
        "          |''',\n",
        "          1:'''\n",
        "          ____________\n",
        "          |\n",
        "          O''',\n",
        "          2:'''\n",
        "          ____________\n",
        "          |\n",
        "          O\n",
        "          /''',\n",
        "          3:'''\n",
        "          ____________\n",
        "          |\n",
        "          O\n",
        "          / \\\\''',\n",
        "          4:'''\n",
        "          ____________\n",
        "          |\n",
        "          O\n",
        "          / \\\\\n",
        "          |''',\n",
        "          5:'''\n",
        "          ____________\n",
        "          |\n",
        "          O\n",
        "          / \\\\\n",
        "          |\n",
        "          /''',\n",
        "          6:'''\n",
        "          ____________\n",
        "          |\n",
        "          O\n",
        "          / \\\\\n",
        "          |\n",
        "          / \\\\ '''}\n",
        "\n",
        "print(\"Welcome to digital 'Hangperson'\")\n",
        "print('*********************************************')\n",
        "possible_words = [\"ARMOUR\",\"BEEHIVE\",\"CHARACTER\",\"ELEPHANT\",\"ERROR\",\"LUCANIDAE\",\"LENGTH\",\"SOLARSYSTEM\",\"TAWDRINESS\" ,\"UNCOPYRIGHTABLE\"]\n",
        "word = random.choice(possible_words)\n",
        "  # x = possible_words.index(word)\n",
        "  # possible_words.pop(x)\n",
        "hidden_word = \"_\" * len(word)\n",
        "\n",
        "print(f\"The word is {len(word)} characters long.\")\n",
        "mistake_count = 6\n",
        "hangman_count = 0\n",
        "\n",
        "while mistake_count >0 and hidden_word.count(\"_\") !=0:\n",
        "  letter_count = 0\n",
        "  index_count = 0\n",
        "  print(\"Please input a letter.\")\n",
        "  picked_letter = input().upper()\n",
        "  print('*********************************************')\n",
        "  for letter in word:\n",
        "    if letter == picked_letter:\n",
        "      hidden_word = hidden_word[:index_count] + picked_letter + hidden_word[index_count+1:]\n",
        "      letter_count += 1\n",
        "    index_count += 1\n",
        "  if word.count(picked_letter) > 0:\n",
        "    print(f\"CORRECT! The word contains the character {picked_letter}!\")\n",
        "    print(hidden_word)\n",
        "    print('*********************************************')\n",
        "  else:\n",
        "    mistake_count -= 1\n",
        "    hangman_count += 1\n",
        "    print(f\"WRONG!\\nYou have {mistake_count} guesses left.\")\n",
        "    print(hangman[hangman_count])\n",
        "    print('*********************************************')\n",
        "if mistake_count == 0:\n",
        "      print(\"HANGED!\\nGame Over!\")\n",
        "else:\n",
        "    print(\"CONGRATULATIONS\\nYou are victorious!\")\n",
        "print('*********************************************')"
      ]
    },
    {
      "cell_type": "markdown",
      "id": "ed1ce9a2-5f9c-48a0-8dae-be9db38c092a",
      "metadata": {
        "id": "ed1ce9a2-5f9c-48a0-8dae-be9db38c092a"
      },
      "source": [
        "#### &nbsp;4. Step"
      ]
    },
    {
      "cell_type": "markdown",
      "id": "b4f4989a-a4fd-4a2b-8700-310cbc4cdf33",
      "metadata": {
        "id": "b4f4989a-a4fd-4a2b-8700-310cbc4cdf33"
      },
      "source": [
        "- You are given a dictionary that contains an 'image' of hanged figure. Each item in dictionary has different number of figure elements. Try to implement it in your solution so the correct figure is printed out every time a mistake is done.  \n",
        "- Try to printout some simbols that will help you divide steps in printout so it looks nicer. E.g. Adding a `print('==============================================')` creates a nice divider.  \n",
        "- Create a list of recommended words for a game so every game one word gets randomly choosen your collection. You are going to need to import the random module https://docs.python.org/3/library/random.html"
      ]
    },
    {
      "cell_type": "code",
      "execution_count": null,
      "id": "19adbda2-6677-4013-86d2-14f75ad289fe",
      "metadata": {
        "tags": [],
        "id": "19adbda2-6677-4013-86d2-14f75ad289fe"
      },
      "outputs": [],
      "source": [
        "hangman={0:'''\n",
        "        ____________\n",
        "         |''',\n",
        "        1:'''\n",
        "        ____________\n",
        "         |\n",
        "         O''',\n",
        "        2:'''\n",
        "        ____________\n",
        "         |\n",
        "         O\n",
        "        /''',\n",
        "        3:'''\n",
        "        ____________\n",
        "         |\n",
        "         O\n",
        "        / \\\\''',\n",
        "        4:'''\n",
        "        ____________\n",
        "         |\n",
        "         O\n",
        "        / \\\\\n",
        "         |''',\n",
        "        5:'''\n",
        "        ____________\n",
        "         |\n",
        "         O\n",
        "        / \\\\\n",
        "         |\n",
        "        /''',\n",
        "        6:'''\n",
        "        ____________\n",
        "         |\n",
        "         O\n",
        "        / \\\\\n",
        "         |\n",
        "        / \\\\ '''}"
      ]
    },
    {
      "cell_type": "code",
      "execution_count": null,
      "id": "a81c802e-4628-4f3f-96f7-469ac07dcf7f",
      "metadata": {
        "id": "a81c802e-4628-4f3f-96f7-469ac07dcf7f"
      },
      "outputs": [],
      "source": [
        "# your code here"
      ]
    },
    {
      "cell_type": "markdown",
      "metadata": {
        "jp-MarkdownHeadingCollapsed": true,
        "tags": [],
        "id": "bae827c3-6971-4c49-8aa3-a37393aa6f2f"
      },
      "source": [
        "##### Solution"
      ],
      "id": "bae827c3-6971-4c49-8aa3-a37393aa6f2f"
    },
    {
      "cell_type": "code",
      "execution_count": null,
      "metadata": {
        "id": "6a38acc1-4deb-4be4-a137-73ea41279f7e",
        "outputId": "5397fb28-8c45-4319-c492-6973bf72ee94"
      },
      "outputs": [
        {
          "name": "stdout",
          "output_type": "stream",
          "text": [
            "Hidden word is: ----\n",
            "==============================================================\n",
            "Pick a letter:\n"
          ]
        },
        {
          "name": "stdin",
          "output_type": "stream",
          "text": [
            " P\n"
          ]
        },
        {
          "name": "stdout",
          "output_type": "stream",
          "text": [
            "WRONG! Number of mistakes left: 5\n",
            "\n",
            "        ____________\n",
            "         |\n",
            "         O\n",
            "==============================================================\n",
            "Pick a letter:\n"
          ]
        },
        {
          "name": "stdin",
          "output_type": "stream",
          "text": [
            " A\n"
          ]
        },
        {
          "name": "stdout",
          "output_type": "stream",
          "text": [
            "CORRECT! There is a letter A in a secret word!\n",
            "-A--\n",
            "==============================================================\n",
            "Pick a letter:\n"
          ]
        },
        {
          "name": "stdin",
          "output_type": "stream",
          "text": [
            " L\n"
          ]
        },
        {
          "name": "stdout",
          "output_type": "stream",
          "text": [
            "WRONG! Number of mistakes left: 4\n",
            "\n",
            "        ____________\n",
            "         |\n",
            "         O\n",
            "        /\n",
            "==============================================================\n",
            "Pick a letter:\n"
          ]
        },
        {
          "name": "stdin",
          "output_type": "stream",
          "text": [
            " E\n"
          ]
        },
        {
          "name": "stdout",
          "output_type": "stream",
          "text": [
            "CORRECT! There is a letter E in a secret word!\n",
            "-A-E\n",
            "==============================================================\n",
            "Pick a letter:\n"
          ]
        },
        {
          "name": "stdin",
          "output_type": "stream",
          "text": [
            " K\n"
          ]
        },
        {
          "name": "stdout",
          "output_type": "stream",
          "text": [
            "WRONG! Number of mistakes left: 3\n",
            "\n",
            "        ____________\n",
            "         |\n",
            "         O\n",
            "        / \\\n",
            "==============================================================\n",
            "Pick a letter:\n"
          ]
        },
        {
          "name": "stdin",
          "output_type": "stream",
          "text": [
            " G\n"
          ]
        },
        {
          "name": "stdout",
          "output_type": "stream",
          "text": [
            "CORRECT! There is a letter G in a secret word!\n",
            "GA-E\n",
            "==============================================================\n",
            "Pick a letter:\n"
          ]
        },
        {
          "name": "stdin",
          "output_type": "stream",
          "text": [
            " M\n"
          ]
        },
        {
          "name": "stdout",
          "output_type": "stream",
          "text": [
            "CORRECT! There is a letter M in a secret word!\n",
            "GAME\n",
            "==============================================================\n",
            "CONGRATULATIONS!!!\n"
          ]
        }
      ],
      "source": [
        "from random import randrange\n",
        "list_of_words = ['LEARNING','PYTHON','CREATING','GAME']\n",
        "word = list_of_words[randrange(len(list_of_words))]\n",
        "hidden_word = '-'*len(word)\n",
        "print(f'Hidden word is: {hidden_word}')\n",
        "mistake_count = 6\n",
        "print('==============================================================')\n",
        "while mistake_count > 0 and hidden_word.count('-') != 0:\n",
        "    index_count = 0\n",
        "    letter_count = 0\n",
        "    \n",
        "    print('Pick a letter:')\n",
        "    picked_letter = input().capitalize()\n",
        "    for letter in word:\n",
        "        \n",
        "        if(picked_letter == letter):\n",
        "            hidden_word = hidden_word[:index_count] + picked_letter + hidden_word[index_count+1:]\n",
        "            letter_count += 1\n",
        "        index_count += 1\n",
        "    if(letter_count == 0):\n",
        "        mistake_count -= 1\n",
        "        print(f'WRONG! Number of mistakes left: {mistake_count}')\n",
        "        print(hangman[6 - mistake_count])\n",
        "    else:\n",
        "        print(f'CORRECT! There is a letter {picked_letter} in a secret word!')\n",
        "        print(hidden_word)\n",
        "    print('==============================================================')\n",
        "if(mistake_count == 0):\n",
        "    print('HANGED!!!')\n",
        "else:\n",
        "    print('CONGRATULATIONS!!!')"
      ],
      "id": "6a38acc1-4deb-4be4-a137-73ea41279f7e"
    },
    {
      "cell_type": "code",
      "execution_count": null,
      "metadata": {
        "id": "0db9de29-d6ea-4aed-904b-a1e34de6d3d0"
      },
      "outputs": [],
      "source": [],
      "id": "0db9de29-d6ea-4aed-904b-a1e34de6d3d0"
    },
    {
      "cell_type": "markdown",
      "source": [
        "#### BONUS step"
      ],
      "metadata": {
        "id": "koF9QvUk7vcT"
      },
      "id": "koF9QvUk7vcT"
    },
    {
      "cell_type": "markdown",
      "source": [
        "Once you are done with all the steps, you can add some advanced features to your game.  \n",
        "Some examples:  \n",
        "- Add difficulty levels - it can be based on number of mistakes or complexity of the secret word\n",
        "- Create steps that check users input to make sure it is correct (e.g. no digits or special characters allowed, no more than one letter allowed)  \n",
        "You can create any number of special features you like and you can think of"
      ],
      "metadata": {
        "id": "0YhZVS2a7y7c"
      },
      "id": "0YhZVS2a7y7c"
    },
    {
      "cell_type": "code",
      "source": [
        "# your code here"
      ],
      "metadata": {
        "id": "dnENYrPO7VN-"
      },
      "id": "dnENYrPO7VN-",
      "execution_count": null,
      "outputs": []
    }
  ],
  "metadata": {
    "kernelspec": {
      "display_name": "Python 3 (ipykernel)",
      "language": "python",
      "name": "python3"
    },
    "language_info": {
      "codemirror_mode": {
        "name": "ipython",
        "version": 3
      },
      "file_extension": ".py",
      "mimetype": "text/x-python",
      "name": "python",
      "nbconvert_exporter": "python",
      "pygments_lexer": "ipython3",
      "version": "3.9.12"
    },
    "colab": {
      "provenance": [],
      "collapsed_sections": [
        "4340fe5b-c87a-419d-a0c1-8fdf44377308",
        "5ae4a8f1-1dff-4197-a884-c7af858522d9",
        "a09706f8-26dd-4bcc-bf71-dbccbdc986c4",
        "86b350e4-45d5-4e6f-9517-4b9bc2284cee",
        "2cdc5c9b-0d96-44d0-918b-8fa2a1b07413",
        "ed1ce9a2-5f9c-48a0-8dae-be9db38c092a",
        "bae827c3-6971-4c49-8aa3-a37393aa6f2f",
        "koF9QvUk7vcT"
      ]
    }
  },
  "nbformat": 4,
  "nbformat_minor": 5
}